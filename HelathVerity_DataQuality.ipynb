{
 "cells": [
  {
   "cell_type": "code",
   "execution_count": 1,
   "metadata": {},
   "outputs": [],
   "source": [
    "import pandas as pd\n",
    "from tableschema import Schema,Table\n",
    "import numpy as np\n",
    "import datetime"
   ]
  },
  {
   "cell_type": "markdown",
   "metadata": {},
   "source": [
    "#### Defining table schema"
   ]
  },
  {
   "cell_type": "code",
   "execution_count": 2,
   "metadata": {},
   "outputs": [],
   "source": [
    "schema=Schema(\n",
    "{\n",
    "\t\"fields\": [\n",
    "\t\t{\n",
    "\t\t\t\"name\": \"patient_id\",\n",
    "\t\t\t\"title\": \"patient_id\",\n",
    "            \"type\" : \"string\",\n",
    "\t\t\t\"constraints\": {\n",
    "\t\t\t\t\"required\": True,\n",
    "\t\t\t}\n",
    "\t\t},\n",
    "\t\t{\n",
    "\t\t\t\"name\": \"claim_id\",\n",
    "\t\t\t\"title\": \"claim_id\",\n",
    "            \"type\" : \"number\",\n",
    "\t\t\t\"constraints\": {\n",
    "\t\t\t\t\"required\": True,\n",
    "\t\t\t}\n",
    "\t\t},\n",
    "\t\t{\n",
    "\t\t\t\"name\": \"diagnosis_codes\",\n",
    "\t\t\t\"title\": \"diagnosis_codes\",\n",
    "             \"type\" : \"string\",\n",
    "\t\t\t\"constraints\": {\n",
    "\t\t\t\t\"required\": False,\n",
    "\t\t\t}\n",
    "\t\t},\n",
    "\t\t{\n",
    "\t\t\t\"name\": \"procedure_code\",\n",
    "\t\t\t\"title\": \"procedure_code\",\n",
    "            \"type\" : \"number\",\n",
    "\t\t\t\"constraints\": {\n",
    "\t\t\t\t\"required\": True,\n",
    "\t\t\t}\n",
    "\t\t},\n",
    "\t\t{\n",
    "\t\t\t\"name\": \"date_service\",\n",
    "\t\t\t\"title\": \"date_service\",\n",
    "            \"type\" : \"string\",\n",
    "\t\t\t\"constraints\": {\n",
    "\t\t\t\t\"required\": True,\n",
    "\t\t\t}\n",
    "\t\t},\n",
    "\t\t{\n",
    "\t\t\t\"name\": \"date_received\",\n",
    "\t\t\t\"title\": \"date_received\",\n",
    "            \"type\" : \"string\",\n",
    "\t\t\t\"constraints\": {\n",
    "\t\t\t\t\"required\": True,\n",
    "\t\t\t}\n",
    "\t\t}\n",
    "\t]\n",
    "})"
   ]
  },
  {
   "cell_type": "markdown",
   "metadata": {},
   "source": [
    "### Reads in csv and checks if it matches the defined schema"
   ]
  },
  {
   "cell_type": "code",
   "execution_count": 3,
   "metadata": {},
   "outputs": [],
   "source": [
    "table=Table('C:/Akhil/USF BAIS/Jobs/Health Verity/sample_claims.csv',schema=schema)"
   ]
  },
  {
   "cell_type": "markdown",
   "metadata": {},
   "source": [
    "### Writes any exceptions raised to an array.\n",
    "#### Checks if data matches the table schema.\n",
    "#### Checks for missing values in required (non null fields)\n",
    "#### Checks for data type matches with table definition\n"
   ]
  },
  {
   "cell_type": "code",
   "execution_count": 4,
   "metadata": {},
   "outputs": [],
   "source": [
    "errors = []\n",
    "error_claims =[]\n",
    "def exc_handler(exc, row_number=None, row_data=None, error_data=None):\n",
    "    errors.append([row_number, row_data, error_data])\n",
    "\n",
    "for row in table.iter(exc_handler=exc_handler):\n",
    "    continue\n",
    "\n",
    "for i in errors:\n",
    "    #print(i[0] - 1,i[2]) # row_number -1 = claim_id\n",
    "    error_claims.append(i[0] - 1)   "
   ]
  },
  {
   "cell_type": "markdown",
   "metadata": {},
   "source": [
    "### Reading in csvs using pandas dataframes"
   ]
  },
  {
   "cell_type": "code",
   "execution_count": 44,
   "metadata": {},
   "outputs": [],
   "source": [
    "df=pd.read_csv('C:/Akhil/USF BAIS/Jobs/Health Verity/sample_claims.csv')"
   ]
  },
  {
   "cell_type": "code",
   "execution_count": 46,
   "metadata": {},
   "outputs": [
    {
     "data": {
      "text/html": [
       "<div>\n",
       "<style scoped>\n",
       "    .dataframe tbody tr th:only-of-type {\n",
       "        vertical-align: middle;\n",
       "    }\n",
       "\n",
       "    .dataframe tbody tr th {\n",
       "        vertical-align: top;\n",
       "    }\n",
       "\n",
       "    .dataframe thead th {\n",
       "        text-align: right;\n",
       "    }\n",
       "</style>\n",
       "<table border=\"1\" class=\"dataframe\">\n",
       "  <thead>\n",
       "    <tr style=\"text-align: right;\">\n",
       "      <th></th>\n",
       "      <th>claim_id</th>\n",
       "      <th>procedure_code</th>\n",
       "      <th>date_service</th>\n",
       "      <th>date_received</th>\n",
       "    </tr>\n",
       "  </thead>\n",
       "  <tbody>\n",
       "    <tr>\n",
       "      <th>0</th>\n",
       "      <td>1</td>\n",
       "      <td>99999</td>\n",
       "      <td>1/25/2021</td>\n",
       "      <td>1/26/2021</td>\n",
       "    </tr>\n",
       "    <tr>\n",
       "      <th>1</th>\n",
       "      <td>2</td>\n",
       "      <td>99999</td>\n",
       "      <td>1/27/2021</td>\n",
       "      <td>1/29/2021</td>\n",
       "    </tr>\n",
       "    <tr>\n",
       "      <th>2</th>\n",
       "      <td>3</td>\n",
       "      <td>87491</td>\n",
       "      <td>1/7/2021</td>\n",
       "      <td>1/10/2021</td>\n",
       "    </tr>\n",
       "    <tr>\n",
       "      <th>3</th>\n",
       "      <td>4</td>\n",
       "      <td>86735</td>\n",
       "      <td>1/15/2021</td>\n",
       "      <td>1/16/2021</td>\n",
       "    </tr>\n",
       "    <tr>\n",
       "      <th>4</th>\n",
       "      <td>5</td>\n",
       "      <td>83014</td>\n",
       "      <td>1/6/2021</td>\n",
       "      <td>1/7/2021</td>\n",
       "    </tr>\n",
       "  </tbody>\n",
       "</table>\n",
       "</div>"
      ],
      "text/plain": [
       "   claim_id procedure_code date_service date_received\n",
       "0         1          99999    1/25/2021     1/26/2021\n",
       "1         2          99999    1/27/2021     1/29/2021\n",
       "2         3          87491     1/7/2021     1/10/2021\n",
       "3         4          86735    1/15/2021     1/16/2021\n",
       "4         5          83014     1/6/2021      1/7/2021"
      ]
     },
     "execution_count": 46,
     "metadata": {},
     "output_type": "execute_result"
    }
   ],
   "source": [
    "df2.head()"
   ]
  },
  {
   "cell_type": "code",
   "execution_count": 6,
   "metadata": {},
   "outputs": [],
   "source": [
    "df_dates= df[['claim_id','date_service','date_received']]"
   ]
  },
  {
   "cell_type": "code",
   "execution_count": 7,
   "metadata": {},
   "outputs": [],
   "source": [
    "df_valid_cpt_codes = pd.read_csv('C:/Akhil/USF BAIS/Jobs/Health Verity/valid_cpt_codes.csv')"
   ]
  },
  {
   "cell_type": "code",
   "execution_count": 8,
   "metadata": {},
   "outputs": [],
   "source": [
    "df_valid_icd_10_codes = pd.read_csv('C:/Akhil/USF BAIS/Jobs/Health Verity/valid_icd_10_codes.csv')"
   ]
  },
  {
   "cell_type": "code",
   "execution_count": 9,
   "metadata": {},
   "outputs": [
    {
     "name": "stdout",
     "output_type": "stream",
     "text": [
      "<class 'pandas.core.frame.DataFrame'>\n",
      "RangeIndex: 5000 entries, 0 to 4999\n",
      "Data columns (total 6 columns):\n",
      " #   Column           Non-Null Count  Dtype \n",
      "---  ------           --------------  ----- \n",
      " 0   patient_id       4994 non-null   object\n",
      " 1   claim_id         5000 non-null   int64 \n",
      " 2   diagnosis_codes  3714 non-null   object\n",
      " 3   procedure_code   4997 non-null   object\n",
      " 4   date_service     4990 non-null   object\n",
      " 5   date_received    5000 non-null   object\n",
      "dtypes: int64(1), object(5)\n",
      "memory usage: 234.5+ KB\n"
     ]
    }
   ],
   "source": [
    "df.info()"
   ]
  },
  {
   "cell_type": "markdown",
   "metadata": {},
   "source": [
    "### Dropping values from csv where claim ids in error_claims i.e. does not match schema or missing value or type mismatch"
   ]
  },
  {
   "cell_type": "code",
   "execution_count": 10,
   "metadata": {},
   "outputs": [],
   "source": [
    "df=df[~df['claim_id'].isin(error_claims)]"
   ]
  },
  {
   "cell_type": "markdown",
   "metadata": {},
   "source": [
    "### Convert diagnosis code to string and split up diagnosis code values "
   ]
  },
  {
   "cell_type": "code",
   "execution_count": 11,
   "metadata": {},
   "outputs": [],
   "source": [
    "df['diagnosis_codes']=df['diagnosis_codes'].astype('str')\n",
    "df['procedure_code']=df['procedure_code'].astype('str')"
   ]
  },
  {
   "cell_type": "code",
   "execution_count": 12,
   "metadata": {},
   "outputs": [],
   "source": [
    "s = df['diagnosis_codes'].str.split('^').apply(pd.Series, 1).stack()\n",
    "\n",
    "s.index = s.index.droplevel(-1) # to line up with df's index\n",
    "\n",
    "s.name = 'diagnosis_codes' # needs to join"
   ]
  },
  {
   "cell_type": "code",
   "execution_count": 13,
   "metadata": {},
   "outputs": [],
   "source": [
    "df.drop('diagnosis_codes',inplace=True,axis=1)"
   ]
  },
  {
   "cell_type": "code",
   "execution_count": 14,
   "metadata": {},
   "outputs": [],
   "source": [
    "df=df.join(s)"
   ]
  },
  {
   "cell_type": "code",
   "execution_count": 15,
   "metadata": {},
   "outputs": [],
   "source": [
    "df['diagnosis_codes']=df['diagnosis_codes'].astype('str')"
   ]
  },
  {
   "cell_type": "markdown",
   "metadata": {},
   "source": [
    "#### Remove '.' from diagnosis codes"
   ]
  },
  {
   "cell_type": "code",
   "execution_count": 16,
   "metadata": {},
   "outputs": [],
   "source": [
    "df['diagnosis_codes'] = df['diagnosis_codes'].map(lambda x: x.translate({ord('.'): None}))"
   ]
  },
  {
   "cell_type": "code",
   "execution_count": 17,
   "metadata": {},
   "outputs": [
    {
     "data": {
      "text/html": [
       "<div>\n",
       "<style scoped>\n",
       "    .dataframe tbody tr th:only-of-type {\n",
       "        vertical-align: middle;\n",
       "    }\n",
       "\n",
       "    .dataframe tbody tr th {\n",
       "        vertical-align: top;\n",
       "    }\n",
       "\n",
       "    .dataframe thead th {\n",
       "        text-align: right;\n",
       "    }\n",
       "</style>\n",
       "<table border=\"1\" class=\"dataframe\">\n",
       "  <thead>\n",
       "    <tr style=\"text-align: right;\">\n",
       "      <th></th>\n",
       "      <th>patient_id</th>\n",
       "      <th>claim_id</th>\n",
       "      <th>procedure_code</th>\n",
       "      <th>date_service</th>\n",
       "      <th>date_received</th>\n",
       "      <th>diagnosis_codes</th>\n",
       "    </tr>\n",
       "  </thead>\n",
       "  <tbody>\n",
       "    <tr>\n",
       "      <th>0</th>\n",
       "      <td>A1670</td>\n",
       "      <td>1</td>\n",
       "      <td>99999</td>\n",
       "      <td>1/25/2021</td>\n",
       "      <td>1/26/2021</td>\n",
       "      <td>Z01419</td>\n",
       "    </tr>\n",
       "    <tr>\n",
       "      <th>0</th>\n",
       "      <td>A1670</td>\n",
       "      <td>1</td>\n",
       "      <td>99999</td>\n",
       "      <td>1/25/2021</td>\n",
       "      <td>1/26/2021</td>\n",
       "      <td>Z1151</td>\n",
       "    </tr>\n",
       "  </tbody>\n",
       "</table>\n",
       "</div>"
      ],
      "text/plain": [
       "  patient_id  claim_id procedure_code date_service date_received  \\\n",
       "0      A1670         1          99999    1/25/2021     1/26/2021   \n",
       "0      A1670         1          99999    1/25/2021     1/26/2021   \n",
       "\n",
       "  diagnosis_codes  \n",
       "0          Z01419  \n",
       "0           Z1151  "
      ]
     },
     "execution_count": 17,
     "metadata": {},
     "output_type": "execute_result"
    }
   ],
   "source": [
    "df.head(2)"
   ]
  },
  {
   "cell_type": "code",
   "execution_count": 18,
   "metadata": {},
   "outputs": [
    {
     "name": "stdout",
     "output_type": "stream",
     "text": [
      "<class 'pandas.core.frame.DataFrame'>\n",
      "Int64Index: 11301 entries, 0 to 4999\n",
      "Data columns (total 6 columns):\n",
      " #   Column           Non-Null Count  Dtype \n",
      "---  ------           --------------  ----- \n",
      " 0   patient_id       11301 non-null  object\n",
      " 1   claim_id         11301 non-null  int64 \n",
      " 2   procedure_code   11301 non-null  object\n",
      " 3   date_service     11301 non-null  object\n",
      " 4   date_received    11301 non-null  object\n",
      " 5   diagnosis_codes  11301 non-null  object\n",
      "dtypes: int64(1), object(5)\n",
      "memory usage: 618.0+ KB\n"
     ]
    }
   ],
   "source": [
    "df.info()"
   ]
  },
  {
   "cell_type": "markdown",
   "metadata": {},
   "source": [
    "### Check for valid diagnostics and procedure codes"
   ]
  },
  {
   "cell_type": "code",
   "execution_count": 19,
   "metadata": {},
   "outputs": [],
   "source": [
    "diagnosis_codes=set(df['diagnosis_codes'])\n",
    "procedure_codes = set(df['procedure_code'])"
   ]
  },
  {
   "cell_type": "code",
   "execution_count": 20,
   "metadata": {},
   "outputs": [],
   "source": [
    "# looks up valid codes from respecitve files and returns invalid codes if any,else returns empty list\n",
    "def valid_code(diagnosis_codes,procedure_codes):\n",
    "    \n",
    "    valid_diagnosis_codes=set(df_valid_icd_10_codes['code'])\n",
    "    valid_procedure_codes=set(df_valid_cpt_codes['code'].astype('str'))\n",
    "    \n",
    "    invalid_diag_codes=diagnosis_codes-valid_diagnosis_codes\n",
    "    invalid_proc_codes=procedure_codes-valid_procedure_codes\n",
    "          \n",
    "    return invalid_diag_codes,invalid_proc_codes\n",
    "    "
   ]
  },
  {
   "cell_type": "code",
   "execution_count": 21,
   "metadata": {},
   "outputs": [],
   "source": [
    "invalid_diag_codes,invalid_proc_codes=valid_code(diagnosis_codes,procedure_codes)"
   ]
  },
  {
   "cell_type": "markdown",
   "metadata": {},
   "source": [
    "#### Remove invalid procedure and diagnostics code"
   ]
  },
  {
   "cell_type": "code",
   "execution_count": 22,
   "metadata": {},
   "outputs": [],
   "source": [
    "df=df[~df['diagnosis_codes'].isin(invalid_diag_codes)]"
   ]
  },
  {
   "cell_type": "code",
   "execution_count": 23,
   "metadata": {},
   "outputs": [],
   "source": [
    "df=df[~df['procedure_code'].isin(invalid_proc_codes)]"
   ]
  },
  {
   "cell_type": "markdown",
   "metadata": {},
   "source": [
    "### Checking date format and chronology"
   ]
  },
  {
   "cell_type": "code",
   "execution_count": 24,
   "metadata": {},
   "outputs": [],
   "source": [
    "# return claim_ids with invalid date format\n",
    "def date_format(date):\n",
    "    invalid_date_claims=[]\n",
    "    for index,row in date.iterrows():\n",
    "        try:\n",
    "            datetime.datetime.strptime(str(row[1]), '%m/%d/%Y')    \n",
    "            datetime.datetime.strptime(str(row[2]), '%m/%d/%Y') \n",
    "        except ValueError as e:\n",
    "            invalid_date_claims.append(row[0])\n",
    "    return invalid_date_claims            "
   ]
  },
  {
   "cell_type": "code",
   "execution_count": 25,
   "metadata": {},
   "outputs": [],
   "source": [
    "invalid_date_format_claims=date_format(df_dates)"
   ]
  },
  {
   "cell_type": "markdown",
   "metadata": {},
   "source": [
    "#### Remove claims with invalid dates "
   ]
  },
  {
   "cell_type": "code",
   "execution_count": 26,
   "metadata": {},
   "outputs": [],
   "source": [
    "df=df[~df['claim_id'].isin(invalid_date_format_claims)]"
   ]
  },
  {
   "cell_type": "code",
   "execution_count": 27,
   "metadata": {},
   "outputs": [],
   "source": [
    "#Checks for date chronology, returns claims with invalid chronology\n",
    "def date_chrono(date):\n",
    "    invalid_chrono_claims=[]\n",
    "    for index,row in date.iterrows():\n",
    "        if datetime.datetime.strptime(str(row[2]), '%m/%d/%Y') < datetime.datetime.strptime(str(row[1]), '%m/%d/%Y') :\n",
    "            invalid_chrono_claims.append(row[0])\n",
    "    return invalid_chrono_claims     "
   ]
  },
  {
   "cell_type": "code",
   "execution_count": 28,
   "metadata": {},
   "outputs": [],
   "source": [
    "df_dates=df_dates[~df_dates['claim_id'].isin(invalid_date_format_claims)]"
   ]
  },
  {
   "cell_type": "code",
   "execution_count": 29,
   "metadata": {},
   "outputs": [],
   "source": [
    "invalid_chrono_claims=date_chrono(df_dates)"
   ]
  },
  {
   "cell_type": "markdown",
   "metadata": {},
   "source": [
    "#### Remove claims with invalid chronology"
   ]
  },
  {
   "cell_type": "code",
   "execution_count": 30,
   "metadata": {},
   "outputs": [],
   "source": [
    "df=df[~df['claim_id'].isin(invalid_chrono_claims)]"
   ]
  },
  {
   "cell_type": "code",
   "execution_count": 31,
   "metadata": {},
   "outputs": [
    {
     "name": "stdout",
     "output_type": "stream",
     "text": [
      "<class 'pandas.core.frame.DataFrame'>\n",
      "Int64Index: 6310 entries, 2 to 4999\n",
      "Data columns (total 6 columns):\n",
      " #   Column           Non-Null Count  Dtype \n",
      "---  ------           --------------  ----- \n",
      " 0   patient_id       6310 non-null   object\n",
      " 1   claim_id         6310 non-null   int64 \n",
      " 2   procedure_code   6310 non-null   object\n",
      " 3   date_service     6310 non-null   object\n",
      " 4   date_received    6310 non-null   object\n",
      " 5   diagnosis_codes  6310 non-null   object\n",
      "dtypes: int64(1), object(5)\n",
      "memory usage: 345.1+ KB\n"
     ]
    }
   ],
   "source": [
    "df.info()"
   ]
  },
  {
   "cell_type": "code",
   "execution_count": 32,
   "metadata": {},
   "outputs": [],
   "source": [
    "total_file_errors = [error_claims,invalid_diag_codes,invalid_proc_codes,invalid_date_format_claims,invalid_chrono_claims]"
   ]
  },
  {
   "cell_type": "code",
   "execution_count": 33,
   "metadata": {},
   "outputs": [
    {
     "name": "stdout",
     "output_type": "stream",
     "text": [
      "There are 40 claims with a data format that does not match schema definition such as type, missing values or table description\n",
      "There are 7 unique invalid diagnosis codes\n",
      "There are 3 unique invalid procedure codes\n",
      "There are 20 dates with invalid formats\n",
      "There are 81 dates with chnronology errors\n"
     ]
    }
   ],
   "source": [
    "for i in range(len(total_file_errors)):    \n",
    "    if i == 0:\n",
    "        print(f'There are {len(total_file_errors[i])} claims with a data format that does not match schema definition such as type, missing values or table description')\n",
    "    elif i == 1:\n",
    "        print(f'There are {len(total_file_errors[i])} unique invalid diagnosis codes')\n",
    "    elif i == 2:\n",
    "        print(f'There are {len(total_file_errors[i])} unique invalid procedure codes')\n",
    "    elif i == 3:\n",
    "        print(f'There are {len(total_file_errors[i])} dates with invalid formats')\n",
    "    elif i == len(total_file_errors)-1:\n",
    "        print(f'There are {len(total_file_errors[i])} dates with chnronology errors')\n",
    "        \n",
    "    "
   ]
  },
  {
   "cell_type": "markdown",
   "metadata": {},
   "source": [
    "#### Note :The invalid claims have ben filtered out at each check"
   ]
  },
  {
   "cell_type": "code",
   "execution_count": 34,
   "metadata": {},
   "outputs": [
    {
     "data": {
      "text/plain": [
       "88175    317\n",
       "87591    257\n",
       "87798    239\n",
       "87491    234\n",
       "85018    196\n",
       "85014    183\n",
       "85049    173\n",
       "87799    166\n",
       "86592    153\n",
       "82947    152\n",
       "Name: procedure_code, dtype: int64"
      ]
     },
     "execution_count": 34,
     "metadata": {},
     "output_type": "execute_result"
    }
   ],
   "source": [
    "df['procedure_code'].value_counts().head(10)"
   ]
  },
  {
   "cell_type": "code",
   "execution_count": 35,
   "metadata": {},
   "outputs": [],
   "source": [
    "df.to_csv('C:/Akhil/USF BAIS/Jobs/Health Verity/clean_sample_claims.csv',index=False)"
   ]
  },
  {
   "cell_type": "code",
   "execution_count": null,
   "metadata": {},
   "outputs": [],
   "source": []
  }
 ],
 "metadata": {
  "kernelspec": {
   "display_name": "Python 3",
   "language": "python",
   "name": "python3"
  },
  "language_info": {
   "codemirror_mode": {
    "name": "ipython",
    "version": 3
   },
   "file_extension": ".py",
   "mimetype": "text/x-python",
   "name": "python",
   "nbconvert_exporter": "python",
   "pygments_lexer": "ipython3",
   "version": "3.7.6"
  }
 },
 "nbformat": 4,
 "nbformat_minor": 4
}
